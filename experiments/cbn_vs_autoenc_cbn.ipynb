{
 "cells": [
  {
   "cell_type": "code",
   "execution_count": 23,
   "metadata": {},
   "outputs": [],
   "source": [
    "import os\n",
    "os.environ['TF_CPP_MIN_LOG_LEVEL'] = '3' \n",
    "\n",
    "import cbn_datagen as cbn_dg\n",
    "import cbn_ae_datagen as cbn_ae_dg\n",
    "\n",
    "import matplotlib.pyplot as plt\n",
    "from tensorflow.keras.models import load_model\n",
    "import tensorflow.keras as keras\n",
    "import tensorflow as tf\n",
    "import pickle\n",
    "import numpy as np\n",
    "import scipy\n",
    "from scipy.signal import find_peaks\n",
    "from sklearn.metrics import classification_report\n",
    "\n",
    "from metrics import *\n",
    "\n",
    "# receiver antennas\n",
    "N = 16\n",
    "\n",
    "# bits\n",
    "L = 16\n",
    "\n",
    "# no. of sources\n",
    "K = 8\n",
    "\n",
    "C = [8, 16, 32]\n",
    "\n",
    "# snr between 5 and 30 dB\n",
    "snrs = [5, 10, 15, 20, 25, 30]\n",
    "\n",
    "resolution = 180\n",
    "samples = 2000\n",
    "\n",
    "cbn_cov_labels, cbn_cov_data = cbn_dg.generate_bulk_data(samples, N, K, L)\n",
    "cbn_autoenc_labels, cbn_autoenc_data = cbn_ae_dg.generate_bulk_data(samples, N, K, L)"
   ]
  },
  {
   "cell_type": "code",
   "execution_count": 24,
   "metadata": {},
   "outputs": [
    {
     "name": "stdout",
     "output_type": "stream",
     "text": [
      "5\n",
      "10\n",
      "15\n",
      "20\n",
      "25\n",
      "30\n"
     ]
    }
   ],
   "source": [
    "mse_cbn = []\n",
    "    \n",
    "acc_cbn = []\n",
    "\n",
    "cbn_cov_model = load_model(f\"models/CBN_N={N}_K={K}_L={L}\")\n",
    "\n",
    "def cbn_cov(model, data_, labels_, snr):\n",
    "    labels = np.copy(labels_)\n",
    "    data = np.copy(data_)\n",
    "    data = cbn_dg.apply_wgn(data, L, snr).reshape((samples, L, N))\n",
    "    data = cbn_dg.compute_cov(data)/L\n",
    "    data = cbn_dg.normalize(data, snr)\n",
    "        \n",
    "    pred = model.predict(data)\n",
    "        \n",
    "    pred = pred / np.max(pred, axis=1).reshape(samples,1)\n",
    "    \n",
    "    \n",
    "    pred_conv = np.zeros((len(labels), K))\n",
    "    labels_conv = np.zeros((len(labels), K))\n",
    "    \n",
    "        \n",
    "    for i in range(len(pred)):\n",
    "        n = int(np.sum(labels[i]))\n",
    "        pred_theta = (-pred[i]).argsort()[:n].copy()        \n",
    "        pred_theta.sort()\n",
    "        pred_conv[i][:n] = pred_theta / 180 * np.pi - np.pi/2\n",
    "        \n",
    "        pred[i][pred[i] < 0.5] = 0\n",
    "        pred[i][pred[i] >= 0.5] = 1\n",
    "        \n",
    "        temp = (-labels[i]).argsort()[:n].copy()\n",
    "        temp.sort()\n",
    "        labels_conv[i][:n] = temp / 180 * np.pi - np.pi/2\n",
    "        \n",
    "    \n",
    "    m = np.mean((labels_conv - pred_conv)**2, axis=1) / np.sum(labels_conv**2, axis=1)\n",
    "    m = np.mean(m)\n",
    "    acc_pos_ = compute_pos_acc(labels, pred)\n",
    "        \n",
    "    mse_cbn.append(m)\n",
    "    acc_cbn.append(acc_pos_)\n",
    "    \n",
    "for s in snrs:\n",
    "    snr = [s, s]\n",
    "    print(s)\n",
    "    cbn_cov(cbn_cov_model, cbn_cov_data, cbn_cov_labels, snr)"
   ]
  },
  {
   "cell_type": "code",
   "execution_count": 25,
   "metadata": {},
   "outputs": [
    {
     "data": {
      "text/plain": [
       "[0.9264277777777762,\n",
       " 0.9359305555555525,\n",
       " 0.9382722222222188,\n",
       " 0.9389999999999968,\n",
       " 0.9390805555555534,\n",
       " 0.9392138888888867]"
      ]
     },
     "execution_count": 25,
     "metadata": {},
     "output_type": "execute_result"
    }
   ],
   "source": [
    "acc_cbn"
   ]
  },
  {
   "cell_type": "code",
   "execution_count": 41,
   "metadata": {},
   "outputs": [
    {
     "name": "stdout",
     "output_type": "stream",
     "text": [
      "5\n",
      "10\n",
      "15\n",
      "20\n",
      "25\n",
      "30\n"
     ]
    }
   ],
   "source": [
    "cbn_ae_type = 'CBN_ae_out'\n",
    "\n",
    "cbn_ae_legend = 'cbn autoenc'\n",
    "\n",
    "mse_cbn_ae = {}\n",
    "    \n",
    "acc_cbn_ae = {}\n",
    "\n",
    "for c in C:\n",
    "    mse_cbn_ae[f'{cbn_ae_legend} C={c}'] = []\n",
    "    acc_cbn_ae[f'{cbn_ae_legend} C={c}'] = []\n",
    "\n",
    "    \n",
    "def cbn_autoenc(model, autoenc, data_, labels_, snr, c):\n",
    "    labels = np.copy(labels_)\n",
    "    data = np.copy(data_)\n",
    "    \n",
    "    data = cbn_ae_dg.apply_wgn(data, L, snr).reshape((samples, L*N))\n",
    "    data = np.concatenate((data.real,data.imag), axis=1)\n",
    "    data = data - np.min(data, axis=1).reshape((samples, 1))\n",
    "    data = data / np.max(np.abs(data), axis=1).reshape((samples, 1))\n",
    "\n",
    "    data = autoenc(data)\n",
    "    \n",
    "    #print(data.shape)\n",
    "    \n",
    "    pred = model.predict(data)\n",
    "        \n",
    "    pred = pred / np.max(pred, axis=1).reshape(samples,1)\n",
    "        \n",
    "    pred_conv = np.zeros((len(pred), K))\n",
    "    labels_conv = np.zeros((len(pred), K))\n",
    "    \n",
    "        \n",
    "    for i in range(len(pred)):\n",
    "        n = int(np.sum(labels[i]))\n",
    "        pred_theta = (-pred[i]).argsort()[:n].copy()        \n",
    "        pred_theta.sort()\n",
    "        pred_conv[i][:n] = pred_theta / 180 * np.pi - np.pi/2\n",
    "        \n",
    "        pred[i][pred[i] < 0.5] = 0\n",
    "        pred[i][pred[i] >= 0.5] = 1\n",
    "        \n",
    "        temp = (-labels[i]).argsort()[:n].copy()\n",
    "        temp.sort()\n",
    "        labels_conv[i][:n] = temp / 180 * np.pi - np.pi/2\n",
    "        \n",
    "    m = np.mean((labels_conv - pred_conv)**2, axis=1) / np.sum(labels_conv**2, axis=1)\n",
    "    m = np.mean(m)\n",
    "    acc_pos_ = compute_pos_acc(labels, pred)\n",
    "        \n",
    "    mse_cbn_ae[f'{cbn_ae_legend} C={c}'].append(m)\n",
    "    acc_cbn_ae[f'{cbn_ae_legend} C={c}'].append(acc_pos_)\n",
    "    \n",
    "\n",
    "cbn_autoenc_models = []\n",
    "autoencoder_models = []\n",
    "\n",
    "for c in C:\n",
    "    cbn_autoenc_models.append(load_model(f\"models/{cbn_ae_type}_C={c}_N={N}_K={K}_L={L}\"))\n",
    "    autoencoder_models.append(load_model(f\"models/AE_C={c}_N={N}_K={K}_L={L}\").layers[1])\n",
    "\n",
    "\n",
    "for s in snrs:\n",
    "    snr = [s, s]\n",
    "    print(s)    \n",
    "    for c in C:\n",
    "        i = C.index(c)\n",
    "        cbn_autoenc(cbn_autoenc_models[i], autoencoder_models[i], cbn_autoenc_data, cbn_autoenc_labels, snr, c)      \n",
    "        \n",
    "        \n"
   ]
  },
  {
   "cell_type": "code",
   "execution_count": 42,
   "metadata": {},
   "outputs": [
    {
     "data": {
      "text/plain": [
       "{'cbn autoenc C=8': [0.7988972222222208,\n",
       "  0.8477555555555534,\n",
       "  0.8644916666666638,\n",
       "  0.8701055555555546,\n",
       "  0.8719833333333316,\n",
       "  0.8732694444444422],\n",
       " 'cbn autoenc C=16': [0.86351111111111,\n",
       "  0.883377777777775,\n",
       "  0.8907138888888863,\n",
       "  0.8946944444444416,\n",
       "  0.8958222222222185,\n",
       "  0.8966444444444418],\n",
       " 'cbn autoenc C=32': [0.8918944444444428,\n",
       "  0.9006805555555537,\n",
       "  0.9048444444444408,\n",
       "  0.906138888888885,\n",
       "  0.9071722222222177,\n",
       "  0.9072749999999957]}"
      ]
     },
     "execution_count": 42,
     "metadata": {},
     "output_type": "execute_result"
    }
   ],
   "source": [
    "acc_cbn_ae"
   ]
  },
  {
   "cell_type": "code",
   "execution_count": 45,
   "metadata": {},
   "outputs": [
    {
     "data": {
      "text/plain": [
       "'\\nplt.figure(3)\\n\\ncbn_history = pickle.load(open(f\"history/CBN_N={N}_K={K}_L={L}\", \\'rb\\'))\\nplt.plot(cbn_history[\\'loss\\'])\\nplt.plot(cbn_history[\\'val_loss\\'])\\nplt.legend([\\'training\\', \\'validation\\'])\\nplt.xlabel(\\'epoch\\')\\nplt.ylabel(\\'binary cross entropy\\')\\nplt.savefig(f\"figures/experiment_cbn_vb_cbn_autoenc/CBN_loss_N={N}_K={K}_L={L}.png\", format=\\'png\\')\\n'"
      ]
     },
     "execution_count": 45,
     "metadata": {},
     "output_type": "execute_result"
    },
    {
     "data": {
      "image/png": "[encoded data removed]",
      "text/plain": [
       "<Figure size 432x288 with 1 Axes>"
      ]
     },
     "metadata": {
      "needs_background": "light"
     },
     "output_type": "display_data"
    },
    {
     "data": {
      "image/png": "[encoded data removed]",
      "text/plain": [
       "<Figure size 432x288 with 1 Axes>"
      ]
     },
     "metadata": {
      "needs_background": "light"
     },
     "output_type": "display_data"
    }
   ],
   "source": [
    "mse = mse_cbn_ae\n",
    "mse['cbn'] = mse_cbn\n",
    "\n",
    "acc = acc_cbn_ae\n",
    "acc['cbn'] = acc_cbn\n",
    "\n",
    "plt.figure(0)\n",
    "plt.gcf().subplots_adjust(left=0.18)\n",
    "for i in list(mse.keys()):\n",
    "    plt.semilogy(snrs, mse[i])\n",
    "\n",
    "plt.ylabel('NMSE')\n",
    "plt.xlabel('SNR (dB)')\n",
    "plt.ylim([0.025, None])\n",
    "plt.legend(list(mse.keys()))\n",
    "plt.savefig(f'figures/experiment_cbn_vb_cbn_autoenc/{cbn_ae_type}_mse_N={N}_K={K}_L={L}.png')\n",
    "\n",
    "plt.figure(1)\n",
    "plt.gcf().subplots_adjust(left=0.18)\n",
    "\n",
    "for i in list(acc.keys()):\n",
    "    plt.plot(snrs, acc[i])\n",
    "    \n",
    "plt.ylabel('Accuracy')\n",
    "plt.xlabel('SNR (dB)')\n",
    "plt.legend(list(acc.keys()))\n",
    "#plt.ylim([0.83, None])\n",
    "plt.savefig(f'figures/experiment_cbn_vb_cbn_autoenc/{cbn_ae_type}_acc_pos_N={N}_K={K}_L={L}.png')\n",
    "\n",
    "\"\"\"\n",
    "plt.figure(3)\n",
    "\n",
    "cbn_history = pickle.load(open(f\"history/CBN_N={N}_K={K}_L={L}\", 'rb'))\n",
    "plt.plot(cbn_history['loss'])\n",
    "plt.plot(cbn_history['val_loss'])\n",
    "plt.legend(['training', 'validation'])\n",
    "plt.xlabel('epoch')\n",
    "plt.ylabel('binary cross entropy')\n",
    "plt.savefig(f\"figures/experiment_cbn_vb_cbn_autoenc/CBN_loss_N={N}_K={K}_L={L}.png\", format='png')\n",
    "\"\"\"\n"
   ]
  },
  {
   "cell_type": "code",
   "execution_count": null,
   "metadata": {},
   "outputs": [],
   "source": [
    "for k in [4,8]:\n",
    "    for c in [8,16,32]:\n",
    "        for network in ['CBN_ae_untrained', 'CBN_ae', 'CBN_ae_out']:\n",
    "            plt.figure()\n",
    "\n",
    "            cbn_ae_history = pickle.load(open(f\"history/{network}_C={c}_N={N}_K={k}_L={L}\", 'rb'))\n",
    "            plt.plot(cbn_ae_history['loss'])\n",
    "            plt.plot(cbn_ae_history['val_loss'])\n",
    "            plt.legend(['training', 'validation'])\n",
    "            plt.xlabel('epoch')\n",
    "            plt.ylabel('binary cross entropy')\n",
    "            plt.savefig(f\"figures/experiment_cbn_vb_cbn_autoenc/{network}_loss_C={c}_N={N}_K={k}_L={L}.png\", format='png')"
   ]
  },
  {
   "cell_type": "code",
   "execution_count": null,
   "metadata": {},
   "outputs": [],
   "source": [
    "autoenc_mse = {}\n",
    "\n",
    "samples = 20000\n",
    "    \n",
    "K = 8\n",
    "C = [8, 16, 32]\n",
    "\n",
    "cbn_autoenc_labels, cbn_autoenc_data = cbn_ae_dg.generate_bulk_data(samples, N, K, L)\n",
    "\n",
    "for c in C:\n",
    "    autoenc_model = load_model(f\"models/AE_C={c}_N={N}_K={K}_L={L}\")\n",
    "    \n",
    "\n",
    "    for s in snrs:\n",
    "        snr = [s, s]\n",
    "        print(s)\n",
    "        \n",
    "        data = np.copy(cbn_autoenc_data)\n",
    "    \n",
    "        data = cbn_ae_dg.apply_wgn(data, L, snr).reshape((samples, L*N))\n",
    "        data = np.concatenate((data.real,data.imag), axis=1)    \n",
    "        data = data - np.min(data, axis=1).reshape((samples, 1))\n",
    "        data = data / np.max(np.abs(data), axis=1).reshape((samples, 1))\n",
    "        #data = data / np.max(np.abs(data), axis=1).reshape((samples, 1))\n",
    "        \n",
    "        pred = autoenc_model.predict(data)\n",
    "        \n",
    "        #print(data.dtype)\n",
    "        \n",
    "        m = tf.cast(tf.keras.losses.MSE(data, pred), tf.float64) / tf.reduce_sum(data**2, axis=1)\n",
    "\n",
    "        a_mse = tf.reduce_mean(m).numpy()\n",
    "        \n",
    "        name = f'autoenc C={c}'\n",
    "        \n",
    "        if name not in autoenc_mse:\n",
    "            autoenc_mse[name] = []\n",
    "        \n",
    "        autoenc_mse[name].append(a_mse)\n",
    "        \n",
    "    plt.figure()\n",
    "    plt.gcf().subplots_adjust(left=0.18)    \n",
    "    plt.ylabel('Autoencoder output')\n",
    "    plt.xlabel(f'Autoencoder input')\n",
    "    plt.ylim([0, 1])\n",
    "    plt.xlim([0, 1])\n",
    "    plt.scatter(data[0], pred[0])\n",
    "\n",
    "    plt.savefig(f'figures/experiment_cbn_vb_cbn_autoenc/autoenc_scatter_C={c}_N={N}_K={K}_L={L}.png')\n",
    "    \n",
    "plt.figure(6)\n",
    "plt.gcf().subplots_adjust(left=0.18)\n",
    "for i in list(autoenc_mse.keys()):\n",
    "    plt.semilogy(snrs, autoenc_mse[i])\n",
    "\n",
    "plt.ylabel('MSE')\n",
    "plt.xlabel('SNR (dB)')\n",
    "plt.legend(list(autoenc_mse.keys()))\n",
    "plt.savefig(f'figures/experiment_cbn_vb_cbn_autoenc/autoenc_mse_N={N}_K={K}_L={L}.png')\n",
    "\n"
   ]
  },
  {
   "cell_type": "code",
   "execution_count": null,
   "metadata": {},
   "outputs": [],
   "source": [
    "autoenc_mse = {}\n",
    "    \n",
    "K = 8\n",
    "C = [32]\n",
    "\n",
    "for c in C:\n",
    "    autoenc_model = load_model(f\"models/AE_C={c}_N={N}_K={K}_L={L}\")\n",
    "\n",
    "    cbn_autoenc_labels, cbn_autoenc_data = cbn_ae_dg.generate_bulk_data(samples, N, K, L)\n",
    "\n",
    "    for s in snrs:\n",
    "        snr = [s, s]\n",
    "        print(s)\n",
    "                \n",
    "        data = np.copy(cbn_autoenc_data)\n",
    "    \n",
    "        data = cbn_ae_dg.apply_wgn(data, L, snr).reshape((samples, L*N))\n",
    "        data = np.concatenate((data.real,data.imag), axis=1)    \n",
    "        data = data - np.min(data, axis=1).reshape((samples, 1))\n",
    "        data = data / np.max(np.abs(data), axis=1).reshape((samples, 1))\n",
    "        \n",
    "        pred = autoenc_model.predict(data)\n",
    "        \n",
    "        m = tf.keras.losses.mean_squared_error(data.T, pred.T)\n",
    "        a_mse = tf.reduce_mean(m).numpy()\n",
    "        \n",
    "        name = f'autoenc C={c}'\n",
    "        \n",
    "        if name not in autoenc_mse:\n",
    "            autoenc_mse[name] = []\n",
    "        \n",
    "        autoenc_mse[name].append(a_mse)\n",
    "        \n",
    "    plt.figure()\n",
    "        \n",
    "    plt.ylabel('Autoencoder output')\n",
    "    plt.xlabel(f'Autoencoder input C = {c}, SNR = 30dB')\n",
    "    plt.ylim([0, 1])\n",
    "    plt.xlim([0, 1])\n",
    "    plt.scatter(data[0], pred[0])\n",
    "\n",
    "        \n",
    "plt.figure(6)\n",
    "for i in list(autoenc_mse.keys()):\n",
    "    plt.semilogy(snrs, autoenc_mse[i])\n",
    "    autoenc_mse[i].clear()\n",
    "\n",
    "plt.ylabel('MSE')\n",
    "plt.xlabel('SNR (dB)')\n",
    "#plt.ylim([None, 5e-5])\n",
    "plt.legend(list(autoenc_mse.keys()))\n",
    "\n"
   ]
  },
  {
   "cell_type": "code",
   "execution_count": null,
   "metadata": {},
   "outputs": [],
   "source": [
    "mse"
   ]
  },
  {
   "cell_type": "code",
   "execution_count": null,
   "metadata": {},
   "outputs": [],
   "source": []
  }
 ],
 "metadata": {
  "kernelspec": {
   "display_name": "Python 3",
   "language": "python",
   "name": "python3"
  },
  "language_info": {
   "codemirror_mode": {
    "name": "ipython",
    "version": 3
   },
   "file_extension": ".py",
   "mimetype": "text/x-python",
   "name": "python",
   "nbconvert_exporter": "python",
   "pygments_lexer": "ipython3",
   "version": "3.8.5"
  }
 },
 "nbformat": 4,
 "nbformat_minor": 4
}
