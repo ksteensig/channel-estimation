{
 "cells": [
  {
   "cell_type": "code",
   "execution_count": 114,
   "metadata": {},
   "outputs": [
    {
     "name": "stdout",
     "output_type": "stream",
     "text": [
      "[ 1.4761707   0.67408422 -0.86005157 -0.98418883]\n",
      "[1.76399623e-17 1.03122694e+01 1.71127693e-15 1.51441764e-15]\n"
     ]
    },
    {
     "data": {
      "image/png": "[encoded data removed]",
      "text/plain": [
       "<Figure size 432x288 with 1 Axes>"
      ]
     },
     "metadata": {
      "needs_background": "light"
     },
     "output_type": "display_data"
    }
   ],
   "source": [
    "import numpy as np\n",
    "import numpy.random as rand\n",
    "import numpy.linalg as linalg\n",
    "import matplotlib.pyplot as plt\n",
    "\n",
    "# SNR is a range between min and max SNR in dB\n",
    "def generate_signal(N = 16, K = 4, L = 16, f = 2.4e9, theta_bound = np.pi/2):\n",
    "    c = 3e8 # speed of light\n",
    "    wl = c/f # wavelength (lambda)\n",
    "    d = wl/2 # uniform distance between antennas\n",
    "        \n",
    "    # antenna array\n",
    "    array = np.linspace(0,N-1,N)*d/wl\n",
    "\n",
    "    theta = rand.rand(K,1) * np.pi - np.pi/2\n",
    "\n",
    "    \n",
    "    alpha = (np.random.randn(K,1) + 1j*np.random.randn(K,1))*np.sqrt(1/2)\n",
    "        \n",
    "    response = np.exp(-1j*2*np.pi*array*np.sin(theta))*np.sqrt(1/N)    \n",
    "                \n",
    "    Y = np.dot(response.T, alpha).repeat(L, axis=1)\n",
    "\n",
    "                \n",
    "    return theta, Y, alpha\n",
    "\n",
    "N = 64\n",
    "K = 4\n",
    "T = 32\n",
    "\n",
    "theta, X_raw, alpha = generate_signal(N, K, T)\n",
    "\n",
    "Noise = (np.random.randn(N, T) + 1j*np.random.randn(N, T))*np.sqrt(1/1000)\n",
    "\n",
    "X = X_raw + Noise\n",
    "\n",
    "C = np.dot(X_raw, X_raw.T.conj())/T\n",
    "\n",
    "eig = linalg.eig(C)[0]\n",
    "\n",
    "theta = np.sort(theta.flatten())[::-1]\n",
    "\n",
    "print(theta)\n",
    "plt.semilogy(list(range(1,N+1)), np.abs(eig))\n",
    "print(np.abs(eig)[:K])"
   ]
  },
  {
   "cell_type": "code",
   "execution_count": null,
   "metadata": {},
   "outputs": [],
   "source": [
    "def compute_H(theta, f = 2.4e9):\n",
    "    c = 3e8 # speed of light\n",
    "    wl = c/f # wavelength (lambda)\n",
    "    d = wl/2 # uniform distance between antennas\n",
    "    array = np.linspace(0,N-1,N)*d/wl\n",
    "    \n",
    "    array_response = np.exp(-1j*2*np.pi*array*np.sin(theta))*np.sqrt(1/N)  \n",
    "    return array_response.T\n",
    "\n",
    "search_space_len = 1800 + 1\n",
    "search_space = np.linspace(0,search_space_len-1, search_space_len) / search_space_len * np.pi - np.pi/2\n",
    "search_space = search_space.reshape((search_space_len, 1))\n",
    "\n",
    "A = compute_H(search_space)\n",
    "\n",
    "A_r = A.real\n",
    "A_c = A.imag\n",
    "\n",
    "A_top = np.concatenate((A_r, -A_c), axis=1)\n",
    "A_bot = np.concatenate((A_c, A_r), axis=1)\n",
    "\n",
    "A_total = np.concatenate((A_top, A_bot), axis=0)\n",
    "\n",
    "b = np.concatenate((X.real, X.imag), axis=0)\n",
    "\n",
    "l = 0.5  # regularization parameter\n",
    "\n",
    "\n",
    "def soft_thresh(x, l):\n",
    "    return np.sign(x) * np.maximum(np.abs(x) - l, 0.)\n",
    "\n",
    "\n",
    "def ista(A, b, thresh, l, maxit):\n",
    "    x = np.zeros((2*search_space_len, T))\n",
    "    L = linalg.norm(A) ** 2\n",
    "    for _ in range(maxit):\n",
    "        x = thresh(x + np.dot(A.T, b - A.dot(x)) / L, l / L)\n",
    "        \n",
    "    return x\n",
    "\n",
    "maxit = 3000\n",
    "\n",
    "x_ista = ista(A_total, b, soft_thresh, l, maxit)\n",
    "\n",
    "x_ista_r, x_ista_c = np.array_split(x_ista, 2, axis=0)\n",
    "x_ista = x_ista_r + 1j*x_ista_c\n",
    "x_ista = np.mean(x_ista, axis=1)\n",
    "\n",
    "vector_to_rads = lambda x: x/(search_space_len) * np.pi - np.pi/2\n",
    "\n",
    "idx = np.argwhere(np.abs(x_ista) > 0)\n",
    "\n",
    "theta_hat = np.sort(vector_to_rads(idx).flatten())[::-1]\n",
    "\n",
    "alpha_actual = np.zeros((search_space_len))\n",
    "alpha_hat = np.zeros((search_space_len))\n",
    "\n",
    "theta_idx = (np.floor((theta+np.pi/2)/np.pi * search_space_len)).astype(int)\n",
    "theta_hat_idx = (np.floor((theta_hat+np.pi/2)/np.pi * search_space_len)).astype(int)\n",
    "\n",
    "alpha_actual[theta_idx] = np.abs(alpha[0,:].T)\n",
    "alpha_hat[theta_hat_idx] = np.abs(x_ista[theta_hat_idx]) / np.max(np.abs(x_ista[theta_hat_idx]))\n",
    "\n",
    "plt.figure(figsize=(15, 8))\n",
    "plt.plot(search_space, alpha_actual)\n",
    "plt.plot(search_space, alpha_hat)\n",
    "plt.xlabel('Angle (radians)')\n",
    "plt.ylabel('Amplitude')\n",
    "plt.legend(['Actual signal', 'Estimated signal'])\n",
    "\n",
    "theta_soft = theta_hat"
   ]
  },
  {
   "cell_type": "code",
   "execution_count": 52,
   "metadata": {},
   "outputs": [
    {
     "data": {
      "text/plain": [
       "array([-0.00033979+0.j, -0.00033673+0.j, -0.00032742+0.j, ...,\n",
       "       -0.00036636+0.j, -0.00035181+0.j, -0.00034283+0.j])"
      ]
     },
     "execution_count": 52,
     "metadata": {},
     "output_type": "execute_result"
    }
   ],
   "source": [
    "x_ista"
   ]
  }
 ],
 "metadata": {
  "kernelspec": {
   "display_name": "Python 3",
   "language": "python",
   "name": "python3"
  },
  "language_info": {
   "codemirror_mode": {
    "name": "ipython",
    "version": 3
   },
   "file_extension": ".py",
   "mimetype": "text/x-python",
   "name": "python",
   "nbconvert_exporter": "python",
   "pygments_lexer": "ipython3",
   "version": "3.8.5"
  }
 },
 "nbformat": 4,
 "nbformat_minor": 4
}
