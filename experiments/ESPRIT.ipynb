{
 "cells": [
  {
   "cell_type": "code",
   "execution_count": 164,
   "metadata": {},
   "outputs": [
    {
     "name": "stdout",
     "output_type": "stream",
     "text": [
      "[-10.58779129  42.86535707  64.37312107]\n",
      "[-10.58779129  42.86535707  64.37312107]\n"
     ]
    }
   ],
   "source": [
    "import numpy as np\n",
    "import numpy.random as rand\n",
    "import numpy.linalg as linalg\n",
    "import matplotlib.pyplot as plt\n",
    "\n",
    "# SNR is a range between min and max SNR in dB\n",
    "def generate_signal(N = 16, K = 4, L = 16, f = 2.4e9, theta_bound = np.pi/2):\n",
    "    c = 3e8 # speed of light\n",
    "    wl = c/f # wavelength (lambda)\n",
    "    d = wl/2 # uniform distance between antennas\n",
    "        \n",
    "    # antenna array\n",
    "    array = np.linspace(0,N-1,N)*d/wl\n",
    "\n",
    "    theta = rand.rand(K,1) * np.pi - np.pi/2\n",
    "    \n",
    "    alpha = (np.random.randn(K,L) + 1j*np.random.randn(K,L))*np.sqrt(1/2)\n",
    "        \n",
    "    response = np.exp(1j*2*np.pi*array*np.sin(theta))*np.sqrt(1/N)\n",
    "    \n",
    "    Y = np.dot(response.T, alpha)\n",
    "                \n",
    "    #Y = np.dot(response.T, alpha).repeat(L, axis=1)\n",
    "                \n",
    "    return theta, Y, alpha\n",
    "\n",
    "def esprit(Y, N = 16, K = 4, f = 2.4e9):\n",
    "    c = 3e8 # speed of light\n",
    "    wl = c/f # wavelength (lambda)\n",
    "    d = wl/2 # uniform distance between antennas\n",
    "    \n",
    "    m = len(Y)\n",
    "    \n",
    "    # \\hat R = E[Y*Y^H] = 1/m * Y*Y^H\n",
    "    R = Y.dot(Y.conj().T) / m\n",
    "    \n",
    "    # ensure matrix is hermitian\n",
    "    #R = 0.5 * (R + R.conj().T)\n",
    "    \n",
    "    # ensure descending order of U, E, V\n",
    "    U,E,V = linalg.svd(R)\n",
    "    \n",
    "    S = U[:, 0:K]\n",
    "    \n",
    "    S1 = S[0:m-1,:]\n",
    "    S2 = S[1:m,:]\n",
    "    \n",
    "    # P = S1 \\ S2\n",
    "    P = linalg.pinv(S1) @ S2\n",
    "    \n",
    "    # E = eigenvalues, Q = eigenvectors\n",
    "    eigs,_ = linalg.eig(P)\n",
    "    \n",
    "    return np.arcsin(1/np.pi * np.angle(eigs))\n",
    "\n",
    "N = 5\n",
    "K = 3\n",
    "L = 10\n",
    "\n",
    "theta, X_raw, alpha = generate_signal(N, K, L)\n",
    "\n",
    "Noise = (np.random.randn(N, L) + 1j*np.random.randn(N, L))*np.sqrt(1/1000)\n",
    "\n",
    "X = X_raw + Noise\n",
    "\n",
    "theta_hat = esprit(X_raw, N, K)\n",
    "\n",
    "\n",
    "\n",
    "print(np.rad2deg(np.sort(theta[:,0])))\n",
    "print(np.rad2deg(np.sort(theta_hat)))"
   ]
  },
  {
   "cell_type": "code",
   "execution_count": 155,
   "metadata": {},
   "outputs": [
    {
     "data": {
      "text/plain": [
       "(5, 10)"
      ]
     },
     "execution_count": 155,
     "metadata": {},
     "output_type": "execute_result"
    }
   ],
   "source": [
    "X.shape"
   ]
  },
  {
   "cell_type": "code",
   "execution_count": null,
   "metadata": {},
   "outputs": [],
   "source": []
  },
  {
   "cell_type": "code",
   "execution_count": null,
   "metadata": {},
   "outputs": [],
   "source": []
  }
 ],
 "metadata": {
  "kernelspec": {
   "display_name": "Python 3",
   "language": "python",
   "name": "python3"
  },
  "language_info": {
   "codemirror_mode": {
    "name": "ipython",
    "version": 3
   },
   "file_extension": ".py",
   "mimetype": "text/x-python",
   "name": "python",
   "nbconvert_exporter": "python",
   "pygments_lexer": "ipython3",
   "version": "3.8.5"
  }
 },
 "nbformat": 4,
 "nbformat_minor": 4
}
